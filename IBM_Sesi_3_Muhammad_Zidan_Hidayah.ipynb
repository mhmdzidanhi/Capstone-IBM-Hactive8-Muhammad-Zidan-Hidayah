{
  "nbformat": 4,
  "nbformat_minor": 0,
  "metadata": {
    "colab": {
      "provenance": [],
      "gpuType": "T4"
    },
    "kernelspec": {
      "name": "python3",
      "display_name": "Python 3"
    },
    "language_info": {
      "name": "python"
    },
    "accelerator": "GPU"
  },
  "cells": [
    {
      "cell_type": "code",
      "execution_count": 1,
      "metadata": {
        "colab": {
          "base_uri": "https://localhost:8080/"
        },
        "id": "xtBuqq50KLoJ",
        "outputId": "0ec02943-b916-43d5-f621-b9967ff73136"
      },
      "outputs": [
        {
          "output_type": "stream",
          "name": "stdout",
          "text": [
            "Collecting langchain_community\n",
            "  Downloading langchain_community-0.3.26-py3-none-any.whl.metadata (2.9 kB)\n",
            "Requirement already satisfied: langchain-core<1.0.0,>=0.3.66 in /usr/local/lib/python3.11/dist-packages (from langchain_community) (0.3.66)\n",
            "Requirement already satisfied: langchain<1.0.0,>=0.3.26 in /usr/local/lib/python3.11/dist-packages (from langchain_community) (0.3.26)\n",
            "Requirement already satisfied: SQLAlchemy<3,>=1.4 in /usr/local/lib/python3.11/dist-packages (from langchain_community) (2.0.41)\n",
            "Requirement already satisfied: requests<3,>=2 in /usr/local/lib/python3.11/dist-packages (from langchain_community) (2.32.3)\n",
            "Requirement already satisfied: PyYAML>=5.3 in /usr/local/lib/python3.11/dist-packages (from langchain_community) (6.0.2)\n",
            "Requirement already satisfied: aiohttp<4.0.0,>=3.8.3 in /usr/local/lib/python3.11/dist-packages (from langchain_community) (3.11.15)\n",
            "Requirement already satisfied: tenacity!=8.4.0,<10,>=8.1.0 in /usr/local/lib/python3.11/dist-packages (from langchain_community) (8.5.0)\n",
            "Collecting dataclasses-json<0.7,>=0.5.7 (from langchain_community)\n",
            "  Downloading dataclasses_json-0.6.7-py3-none-any.whl.metadata (25 kB)\n",
            "Collecting pydantic-settings<3.0.0,>=2.4.0 (from langchain_community)\n",
            "  Downloading pydantic_settings-2.10.1-py3-none-any.whl.metadata (3.4 kB)\n",
            "Requirement already satisfied: langsmith>=0.1.125 in /usr/local/lib/python3.11/dist-packages (from langchain_community) (0.4.1)\n",
            "Collecting httpx-sse<1.0.0,>=0.4.0 (from langchain_community)\n",
            "  Downloading httpx_sse-0.4.1-py3-none-any.whl.metadata (9.4 kB)\n",
            "Requirement already satisfied: numpy>=1.26.2 in /usr/local/lib/python3.11/dist-packages (from langchain_community) (2.0.2)\n",
            "Requirement already satisfied: aiohappyeyeballs>=2.3.0 in /usr/local/lib/python3.11/dist-packages (from aiohttp<4.0.0,>=3.8.3->langchain_community) (2.6.1)\n",
            "Requirement already satisfied: aiosignal>=1.1.2 in /usr/local/lib/python3.11/dist-packages (from aiohttp<4.0.0,>=3.8.3->langchain_community) (1.3.2)\n",
            "Requirement already satisfied: attrs>=17.3.0 in /usr/local/lib/python3.11/dist-packages (from aiohttp<4.0.0,>=3.8.3->langchain_community) (25.3.0)\n",
            "Requirement already satisfied: frozenlist>=1.1.1 in /usr/local/lib/python3.11/dist-packages (from aiohttp<4.0.0,>=3.8.3->langchain_community) (1.7.0)\n",
            "Requirement already satisfied: multidict<7.0,>=4.5 in /usr/local/lib/python3.11/dist-packages (from aiohttp<4.0.0,>=3.8.3->langchain_community) (6.5.0)\n",
            "Requirement already satisfied: propcache>=0.2.0 in /usr/local/lib/python3.11/dist-packages (from aiohttp<4.0.0,>=3.8.3->langchain_community) (0.3.2)\n",
            "Requirement already satisfied: yarl<2.0,>=1.17.0 in /usr/local/lib/python3.11/dist-packages (from aiohttp<4.0.0,>=3.8.3->langchain_community) (1.20.1)\n",
            "Collecting marshmallow<4.0.0,>=3.18.0 (from dataclasses-json<0.7,>=0.5.7->langchain_community)\n",
            "  Downloading marshmallow-3.26.1-py3-none-any.whl.metadata (7.3 kB)\n",
            "Collecting typing-inspect<1,>=0.4.0 (from dataclasses-json<0.7,>=0.5.7->langchain_community)\n",
            "  Downloading typing_inspect-0.9.0-py3-none-any.whl.metadata (1.5 kB)\n",
            "Requirement already satisfied: langchain-text-splitters<1.0.0,>=0.3.8 in /usr/local/lib/python3.11/dist-packages (from langchain<1.0.0,>=0.3.26->langchain_community) (0.3.8)\n",
            "Requirement already satisfied: pydantic<3.0.0,>=2.7.4 in /usr/local/lib/python3.11/dist-packages (from langchain<1.0.0,>=0.3.26->langchain_community) (2.11.7)\n",
            "Requirement already satisfied: jsonpatch<2.0,>=1.33 in /usr/local/lib/python3.11/dist-packages (from langchain-core<1.0.0,>=0.3.66->langchain_community) (1.33)\n",
            "Requirement already satisfied: packaging<25,>=23.2 in /usr/local/lib/python3.11/dist-packages (from langchain-core<1.0.0,>=0.3.66->langchain_community) (24.2)\n",
            "Requirement already satisfied: typing-extensions>=4.7 in /usr/local/lib/python3.11/dist-packages (from langchain-core<1.0.0,>=0.3.66->langchain_community) (4.14.0)\n",
            "Requirement already satisfied: httpx<1,>=0.23.0 in /usr/local/lib/python3.11/dist-packages (from langsmith>=0.1.125->langchain_community) (0.28.1)\n",
            "Requirement already satisfied: orjson<4.0.0,>=3.9.14 in /usr/local/lib/python3.11/dist-packages (from langsmith>=0.1.125->langchain_community) (3.10.18)\n",
            "Requirement already satisfied: requests-toolbelt<2.0.0,>=1.0.0 in /usr/local/lib/python3.11/dist-packages (from langsmith>=0.1.125->langchain_community) (1.0.0)\n",
            "Requirement already satisfied: zstandard<0.24.0,>=0.23.0 in /usr/local/lib/python3.11/dist-packages (from langsmith>=0.1.125->langchain_community) (0.23.0)\n",
            "Collecting python-dotenv>=0.21.0 (from pydantic-settings<3.0.0,>=2.4.0->langchain_community)\n",
            "  Downloading python_dotenv-1.1.1-py3-none-any.whl.metadata (24 kB)\n",
            "Requirement already satisfied: typing-inspection>=0.4.0 in /usr/local/lib/python3.11/dist-packages (from pydantic-settings<3.0.0,>=2.4.0->langchain_community) (0.4.1)\n",
            "Requirement already satisfied: charset-normalizer<4,>=2 in /usr/local/lib/python3.11/dist-packages (from requests<3,>=2->langchain_community) (3.4.2)\n",
            "Requirement already satisfied: idna<4,>=2.5 in /usr/local/lib/python3.11/dist-packages (from requests<3,>=2->langchain_community) (3.10)\n",
            "Requirement already satisfied: urllib3<3,>=1.21.1 in /usr/local/lib/python3.11/dist-packages (from requests<3,>=2->langchain_community) (2.4.0)\n",
            "Requirement already satisfied: certifi>=2017.4.17 in /usr/local/lib/python3.11/dist-packages (from requests<3,>=2->langchain_community) (2025.6.15)\n",
            "Requirement already satisfied: greenlet>=1 in /usr/local/lib/python3.11/dist-packages (from SQLAlchemy<3,>=1.4->langchain_community) (3.2.3)\n",
            "Requirement already satisfied: anyio in /usr/local/lib/python3.11/dist-packages (from httpx<1,>=0.23.0->langsmith>=0.1.125->langchain_community) (4.9.0)\n",
            "Requirement already satisfied: httpcore==1.* in /usr/local/lib/python3.11/dist-packages (from httpx<1,>=0.23.0->langsmith>=0.1.125->langchain_community) (1.0.9)\n",
            "Requirement already satisfied: h11>=0.16 in /usr/local/lib/python3.11/dist-packages (from httpcore==1.*->httpx<1,>=0.23.0->langsmith>=0.1.125->langchain_community) (0.16.0)\n",
            "Requirement already satisfied: jsonpointer>=1.9 in /usr/local/lib/python3.11/dist-packages (from jsonpatch<2.0,>=1.33->langchain-core<1.0.0,>=0.3.66->langchain_community) (3.0.0)\n",
            "Requirement already satisfied: annotated-types>=0.6.0 in /usr/local/lib/python3.11/dist-packages (from pydantic<3.0.0,>=2.7.4->langchain<1.0.0,>=0.3.26->langchain_community) (0.7.0)\n",
            "Requirement already satisfied: pydantic-core==2.33.2 in /usr/local/lib/python3.11/dist-packages (from pydantic<3.0.0,>=2.7.4->langchain<1.0.0,>=0.3.26->langchain_community) (2.33.2)\n",
            "Collecting mypy-extensions>=0.3.0 (from typing-inspect<1,>=0.4.0->dataclasses-json<0.7,>=0.5.7->langchain_community)\n",
            "  Downloading mypy_extensions-1.1.0-py3-none-any.whl.metadata (1.1 kB)\n",
            "Requirement already satisfied: sniffio>=1.1 in /usr/local/lib/python3.11/dist-packages (from anyio->httpx<1,>=0.23.0->langsmith>=0.1.125->langchain_community) (1.3.1)\n",
            "Downloading langchain_community-0.3.26-py3-none-any.whl (2.5 MB)\n",
            "\u001b[2K   \u001b[90m━━━━━━━━━━━━━━━━━━━━━━━━━━━━━━━━━━━━━━━━\u001b[0m \u001b[32m2.5/2.5 MB\u001b[0m \u001b[31m26.7 MB/s\u001b[0m eta \u001b[36m0:00:00\u001b[0m\n",
            "\u001b[?25hDownloading dataclasses_json-0.6.7-py3-none-any.whl (28 kB)\n",
            "Downloading httpx_sse-0.4.1-py3-none-any.whl (8.1 kB)\n",
            "Downloading pydantic_settings-2.10.1-py3-none-any.whl (45 kB)\n",
            "\u001b[2K   \u001b[90m━━━━━━━━━━━━━━━━━━━━━━━━━━━━━━━━━━━━━━━━\u001b[0m \u001b[32m45.2/45.2 kB\u001b[0m \u001b[31m4.4 MB/s\u001b[0m eta \u001b[36m0:00:00\u001b[0m\n",
            "\u001b[?25hDownloading marshmallow-3.26.1-py3-none-any.whl (50 kB)\n",
            "\u001b[2K   \u001b[90m━━━━━━━━━━━━━━━━━━━━━━━━━━━━━━━━━━━━━━━━\u001b[0m \u001b[32m50.9/50.9 kB\u001b[0m \u001b[31m3.5 MB/s\u001b[0m eta \u001b[36m0:00:00\u001b[0m\n",
            "\u001b[?25hDownloading python_dotenv-1.1.1-py3-none-any.whl (20 kB)\n",
            "Downloading typing_inspect-0.9.0-py3-none-any.whl (8.8 kB)\n",
            "Downloading mypy_extensions-1.1.0-py3-none-any.whl (5.0 kB)\n",
            "Installing collected packages: python-dotenv, mypy-extensions, marshmallow, httpx-sse, typing-inspect, pydantic-settings, dataclasses-json, langchain_community\n",
            "Successfully installed dataclasses-json-0.6.7 httpx-sse-0.4.1 langchain_community-0.3.26 marshmallow-3.26.1 mypy-extensions-1.1.0 pydantic-settings-2.10.1 python-dotenv-1.1.1 typing-inspect-0.9.0\n",
            "Collecting replicate\n",
            "  Downloading replicate-1.0.7-py3-none-any.whl.metadata (29 kB)\n",
            "Requirement already satisfied: httpx<1,>=0.21.0 in /usr/local/lib/python3.11/dist-packages (from replicate) (0.28.1)\n",
            "Requirement already satisfied: packaging in /usr/local/lib/python3.11/dist-packages (from replicate) (24.2)\n",
            "Requirement already satisfied: pydantic>1.10.7 in /usr/local/lib/python3.11/dist-packages (from replicate) (2.11.7)\n",
            "Requirement already satisfied: typing_extensions>=4.5.0 in /usr/local/lib/python3.11/dist-packages (from replicate) (4.14.0)\n",
            "Requirement already satisfied: anyio in /usr/local/lib/python3.11/dist-packages (from httpx<1,>=0.21.0->replicate) (4.9.0)\n",
            "Requirement already satisfied: certifi in /usr/local/lib/python3.11/dist-packages (from httpx<1,>=0.21.0->replicate) (2025.6.15)\n",
            "Requirement already satisfied: httpcore==1.* in /usr/local/lib/python3.11/dist-packages (from httpx<1,>=0.21.0->replicate) (1.0.9)\n",
            "Requirement already satisfied: idna in /usr/local/lib/python3.11/dist-packages (from httpx<1,>=0.21.0->replicate) (3.10)\n",
            "Requirement already satisfied: h11>=0.16 in /usr/local/lib/python3.11/dist-packages (from httpcore==1.*->httpx<1,>=0.21.0->replicate) (0.16.0)\n",
            "Requirement already satisfied: annotated-types>=0.6.0 in /usr/local/lib/python3.11/dist-packages (from pydantic>1.10.7->replicate) (0.7.0)\n",
            "Requirement already satisfied: pydantic-core==2.33.2 in /usr/local/lib/python3.11/dist-packages (from pydantic>1.10.7->replicate) (2.33.2)\n",
            "Requirement already satisfied: typing-inspection>=0.4.0 in /usr/local/lib/python3.11/dist-packages (from pydantic>1.10.7->replicate) (0.4.1)\n",
            "Requirement already satisfied: sniffio>=1.1 in /usr/local/lib/python3.11/dist-packages (from anyio->httpx<1,>=0.21.0->replicate) (1.3.1)\n",
            "Downloading replicate-1.0.7-py3-none-any.whl (48 kB)\n",
            "\u001b[2K   \u001b[90m━━━━━━━━━━━━━━━━━━━━━━━━━━━━━━━━━━━━━━━━\u001b[0m \u001b[32m48.6/48.6 kB\u001b[0m \u001b[31m2.9 MB/s\u001b[0m eta \u001b[36m0:00:00\u001b[0m\n",
            "\u001b[?25hInstalling collected packages: replicate\n",
            "Successfully installed replicate-1.0.7\n"
          ]
        }
      ],
      "source": [
        "!pip install langchain_community\n",
        "!pip install replicate"
      ]
    },
    {
      "cell_type": "code",
      "source": [
        "from langchain_community.llms import Replicate\n",
        "from google.colab import userdata\n",
        "import os\n",
        "\n",
        "api_token = userdata.get(\"api_token\")\n",
        "os.environ[\"REPLICATE_API_TOKEN\"] = api_token"
      ],
      "metadata": {
        "id": "yiRZiOBZOC1J"
      },
      "execution_count": 5,
      "outputs": []
    },
    {
      "cell_type": "code",
      "source": [
        "parameters = {\n",
        "  \"top_k\": 5,\n",
        "  \"top_p\": 1.0,\n",
        "  \"max_tokens\": 4096,\n",
        "  \"min_tokens\": 0,\n",
        "  \"random_seed\": None,\n",
        "  \"repetition_penalty\": 1.0,\n",
        "  \"temperature\": 0.7,\n",
        "  \"stopping_criteria\": \"length (256 tokens)\",\n",
        "  \"stopping_sequence\": None\n",
        "}\n",
        "\n",
        "# Define LLM\n",
        "llm = Replicate(\n",
        "    model=\"ibm-granite/granite-3.3-8b-instruct\",\n",
        "    input=parameters\n",
        ")"
      ],
      "metadata": {
        "colab": {
          "base_uri": "https://localhost:8080/"
        },
        "id": "evGBTUzaPK_L",
        "outputId": "4736ce42-e7ae-40de-8311-b1a5eed41cb3"
      },
      "execution_count": 34,
      "outputs": [
        {
          "output_type": "stream",
          "name": "stderr",
          "text": [
            "WARNING:langchain_community.llms.replicate:Init param `input` is deprecated, please use `model_kwargs` instead.\n"
          ]
        }
      ]
    },
    {
      "cell_type": "code",
      "source": [
        "#generate ai\n",
        "output = llm.invoke(\"compare csgo and cs2\")\n",
        "\n",
        "print(output)"
      ],
      "metadata": {
        "colab": {
          "base_uri": "https://localhost:8080/"
        },
        "id": "MRGk_ZjoPjcF",
        "outputId": "0aae7587-3816-464a-b252-1b6cfbcc1477"
      },
      "execution_count": 36,
      "outputs": [
        {
          "output_type": "stream",
          "name": "stdout",
          "text": [
            "1. Gameplay: Both CS:GO (Counter-Strike: Global Offensive) and CS2 (Counter-Strike 2) share the same core gameplay mechanics, focusing on tactical team-based shooting. However, CS2 is yet to be released, so specific gameplay details are undisclosed.\n",
            "\n",
            "2. Graphics and Visuals: CS:GO uses the Source engine, which, while functional, is dated in terms of graphics. CS2 is expected to have improved visuals, taking advantage of modern game engines.\n",
            "\n",
            "3. Maps: CS:GO has a vast collection of maps, both official and custom, while CS2's map offerings are unknown at this time.\n",
            "\n",
            "4. Weapons: CS:GO features a wide array of weapons, each with unique characteristics. CS2 may introduce new weapons or rebalance existing ones, but specific changes are not confirmed.\n",
            "\n",
            "5. Game Modes: CS:GO offers various game modes like Competitive, Wingman, and Arms Race. CS2 might include new modes or refine existing ones, but no information is available yet.\n",
            "\n",
            "6. Esports Scene: CS:GO has a thriving esports scene with numerous tournaments and a large player base. CS2's esports potential remains to be seen, as it hasn't been released yet.\n",
            "\n",
            "7. Updates and Support: Valve regularly updates CS:GO with new content, balance changes, and bug fixes. CS2's update frequency and long-term support are uncertain until its release.\n",
            "\n",
            "8. Pricing: CS:GO is free-to-play, while CS2's pricing model is unknown.\n",
            "\n",
            "In summary, CS:GO and CS2 share similar foundational elements, but CS2 is expected to improve upon CS:GO's visuals, gameplay, and potentially introduce new features. However, specific details about CS2 remain undisclosed, as it has not been officially announced or released.\n"
          ]
        }
      ]
    },
    {
      "cell_type": "code",
      "source": [
        "#generate ai\n",
        "output = llm.invoke(\"compare csgo and cs2\")\n",
        "\n",
        "print(output)"
      ],
      "metadata": {
        "colab": {
          "base_uri": "https://localhost:8080/"
        },
        "id": "tAdS5zSDcc6V",
        "outputId": "e96b253a-3580-42fb-f6a8-ebd4c0549eca"
      },
      "execution_count": 35,
      "outputs": [
        {
          "output_type": "stream",
          "name": "stdout",
          "text": [
            "1. Gameplay: Both CS:GO (Counter-Strike: Global Offensive) and CS:2 (Counter-Strike 2, not an official title) are first-person shooter games focusing on tactical team play. However, CS:2 does not exist as an official sequel; hence, a direct comparison isn't possible.\n",
            "\n",
            "2. Graphics and Visuals: CS:GO was released in 2012, while the last official CS game, CS:GO, still maintains a classic FPS style. If we consider hypothetical improvements, CS:2 might have better graphics, lighting, and character models, aligning with modern gaming standards.\n",
            "\n",
            "3. Maps: CS:GO features a variety of competitive maps like Dust II, Mirage, Inferno, and many more. A potential CS:2 could introduce new map designs, themes, and layouts to keep the gameplay fresh.\n",
            "\n",
            "4. Weapons: CS:GO has an extensive arsenal of weapons, including rifles, pistols, and grenades. In a theoretical CS:2, weapon balance and mechanics could be adjusted, introducing new firearms or upgrading existing ones.\n",
            "\n",
            "5. Game Modes: CS:GO offers classic competitive modes like Dust II, Arms Race, and Warm-up. CS:2 might include new game modes, such as unique objective-based maps, time-attack modes, or bot-focused training areas.\n",
            "\n",
            "6. Community and Esports: CS:GO has a massive community and thriving esports scene, with professional tournaments and leagues. A CS:2, if developed, would likely aim to build a comparable community and competitive scene.\n",
            "\n",
            "7. Release Date and Updates: CS:GO was released in 2012 and has seen continuous updates and new content additions. In contrast, CS:2 is purely speculative, and without an official announcement, no release date or update schedule exists.\n",
            "\n",
            "In conclusion, CS:GO and the hypothetical CS:2 can't be directly compared since CS:2 does not officially exist. CS:GO remains the most recent, fully developed game in the Counter-Strike series, with an established community and esports scene. Any comparison to CS:2 would be purely speculative, focusing on potential improvements in graphics, gameplay mechanics, and additional features.\n"
          ]
        }
      ]
    },
    {
      "cell_type": "code",
      "source": [
        "list_1 = [1, 3, 5, 7, 9]"
      ],
      "metadata": {
        "id": "c0KJefeGUncF"
      },
      "execution_count": 10,
      "outputs": []
    },
    {
      "cell_type": "code",
      "source": [
        "list_1 [4]\n",
        "#list_1 [:4]\n",
        "#list_1 [-4]"
      ],
      "metadata": {
        "colab": {
          "base_uri": "https://localhost:8080/"
        },
        "id": "z7KXD9usUu7E",
        "outputId": "f6317bcc-ebdc-4839-a75e-e8dc064c8656"
      },
      "execution_count": 18,
      "outputs": [
        {
          "output_type": "execute_result",
          "data": {
            "text/plain": [
              "9"
            ]
          },
          "metadata": {},
          "execution_count": 18
        }
      ]
    },
    {
      "cell_type": "code",
      "source": [
        "data = [\n",
        "    \"With millions of fans watching his every move as IShowSpeed, Darren Watkins Jr. has made a name for himself as a streamer. At just 19 years old, his online presence is growing rapidly.\",\n",
        "    \"Known for his lightning-fast footwork on the field, Antony Mateus plays professionally as a football player. He's 25, and already considered one of the rising stars in his league.\",\n",
        "    \"The name Barack Obama is etched in history. Now 63, the former president continues to inspire through his speeches and books.\",\n",
        "    \"After years behind bars, Lucia is back on the streets of Vice City at 29. She is ready to reclaim her life, navigating crime and chaos as a fierce criminal in the heart of GTA 6.\",\n",
        "    \"Selling out stadiums across the world, Taylor Swift is far more than just a 34-year-old singer. Her influence spans music, fashion, and culture.\"\n",
        "]"
      ],
      "metadata": {
        "id": "rlv3i22yVfj3"
      },
      "execution_count": 27,
      "outputs": []
    },
    {
      "cell_type": "code",
      "source": [
        "for row in data:\n",
        "  print(\"Review:\")\n",
        "  print(row)\n",
        "  print()\n",
        "\n",
        "  Prompt = f\"\"\"from that info i want you to change the information to JSON. Extract like, name, job and age:{row}\"\"\"\n",
        "\n",
        "  print(\"Prompt:\")\n",
        "  print(Prompt)\n",
        "  print()\n",
        "\n",
        "  output =  llm.invoke(Prompt)\n",
        "  print(\"Output:\")\n",
        "  print(output)\n",
        "  print()\n",
        "  print()\n",
        "  print(\"-----------------------------\")"
      ],
      "metadata": {
        "colab": {
          "base_uri": "https://localhost:8080/"
        },
        "id": "HfKYBLuzWAaK",
        "outputId": "06f3fdc2-ee1e-4ed8-bbef-bba068b06503"
      },
      "execution_count": 29,
      "outputs": [
        {
          "output_type": "stream",
          "name": "stdout",
          "text": [
            "Review:\n",
            "With millions of fans watching his every move as IShowSpeed, Darren Watkins Jr. has made a name for himself as a streamer. At just 19 years old, his online presence is growing rapidly.\n",
            "\n",
            "Prompt:\n",
            "from that info i want you to change the information to JSON. Extract like, name, job and age:With millions of fans watching his every move as IShowSpeed, Darren Watkins Jr. has made a name for himself as a streamer. At just 19 years old, his online presence is growing rapidly.\n",
            "\n",
            "Output:\n",
            "{\n",
            "  \"name\": \"Darren Watkins Jr.\",\n",
            "  \"like_count\": null,\n",
            "  \"job\": \"streamer\",\n",
            "  \"age\": 19\n",
            "}\n",
            "\n",
            "\n",
            "-----------------------------\n",
            "Review:\n",
            "Known for his lightning-fast footwork on the field, Antony Mateus plays professionally as a football player. He's 25, and already considered one of the rising stars in his league.\n",
            "\n",
            "Prompt:\n",
            "from that info i want you to change the information to JSON. Extract like, name, job and age:Known for his lightning-fast footwork on the field, Antony Mateus plays professionally as a football player. He's 25, and already considered one of the rising stars in his league.\n",
            "\n",
            "Output:\n",
            "{\n",
            "  \"name\": \"Antony Mateus\",\n",
            "  \"job\": \"football player\",\n",
            "  \"age\": 25\n",
            "}\n",
            "\n",
            "\n",
            "-----------------------------\n",
            "Review:\n",
            "The name Barack Obama is etched in history. Now 63, the former president continues to inspire through his speeches and books.\n",
            "\n",
            "Prompt:\n",
            "from that info i want you to change the information to JSON. Extract like, name, job and age:The name Barack Obama is etched in history. Now 63, the former president continues to inspire through his speeches and books.\n",
            "\n",
            "Output:\n",
            "{\n",
            "  \"name\": \"Barack Obama\",\n",
            "  \"like\": \"historical significance, inspiring speeches and books\",\n",
            "  \"job\": \"former president\",\n",
            "  \"age\": 63\n",
            "}\n",
            "\n",
            "\n",
            "-----------------------------\n",
            "Review:\n",
            "After years behind bars, Lucia is back on the streets of Vice City at 29. She is ready to reclaim her life, navigating crime and chaos as a fierce criminal in the heart of GTA 6.\n",
            "\n",
            "Prompt:\n",
            "from that info i want you to change the information to JSON. Extract like, name, job and age:After years behind bars, Lucia is back on the streets of Vice City at 29. She is ready to reclaim her life, navigating crime and chaos as a fierce criminal in the heart of GTA 6.\n",
            "\n",
            "Output:\n",
            "{\n",
            "  \"name\": \"Lucia\",\n",
            "  \"job\": \"criminal\",\n",
            "  \"age\": 29\n",
            "}\n",
            "\n",
            "\n",
            "-----------------------------\n",
            "Review:\n",
            "Selling out stadiums across the world, Taylor Swift is far more than just a 34-year-old singer. Her influence spans music, fashion, and culture.\n",
            "\n",
            "Prompt:\n",
            "from that info i want you to change the information to JSON. Extract like, name, job and age:Selling out stadiums across the world, Taylor Swift is far more than just a 34-year-old singer. Her influence spans music, fashion, and culture.\n",
            "\n",
            "Output:\n",
            "{\n",
            "  \"name\": \"Taylor Swift\",\n",
            "  \"job\": \"singer\",\n",
            "  \"age\": 34,\n",
            "  \"additional_info\": \"Selling out stadiums across the world, Taylor Swift's influence spans music, fashion, and culture.\"\n",
            "}\n",
            "\n",
            "\n",
            "-----------------------------\n"
          ]
        }
      ]
    },
    {
      "cell_type": "code",
      "source": [],
      "metadata": {
        "id": "ulVC-GndWl5i"
      },
      "execution_count": null,
      "outputs": []
    }
  ]
}